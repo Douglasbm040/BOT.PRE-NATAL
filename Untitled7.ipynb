{
 "cells": [
  {
   "cell_type": "code",
   "execution_count": 6,
   "metadata": {},
   "outputs": [],
   "source": [
    "#importação\r\n",
    "from selenium.webdriver.common.keys import Keys\r\n",
    "from selenium import webdriver #importe do selenium webdriver \"controlador\" de site\r\n",
    "from selenium.webdriver.firefox.options import Options #import do controlador especifico do firefox\r\n",
    "from selenium.webdriver.common.by import By\r\n",
    "from selenium.common.exceptions import NoSuchElementException\r\n",
    "from selenium.webdriver import ActionChains\r\n",
    "import time #biblioteca para adicionar um tempo de espera \r\n",
    "from bs4 import BeautifulSoup #manipular html\r\n",
    "import pandas as pd #criar 'tabela'\r\n",
    "from bs4 import BeautifulSoup\r\n"
   ]
  },
  {
   "cell_type": "code",
   "execution_count": 2,
   "metadata": {},
   "outputs": [],
   "source": [
    "options = Options()# instancinado \n",
    "options.binary_location = r\"C:/Program Files/Mozilla Firefox/firefox.exe\"#adicionando o caminho do navagado ao codigo\n",
    "driver = webdriver.Firefox(options=options, executable_path=\"C:/Users/dougl/bin/geckodriver.exe\")#adiconando o caminho do controlador de navegador\n"
   ]
  },
  {
   "cell_type": "code",
   "execution_count": null,
   "metadata": {},
   "outputs": [],
   "source": [
    "x='https://web.whatsapp.com/'\n",
    "busca=\"É eu msm\"\n",
    "element=driver.get(x)\n",
    "time.sleep(20)"
   ]
  },
  {
   "cell_type": "code",
   "execution_count": null,
   "metadata": {},
   "outputs": [],
   "source": [
    "\r\n",
    "def clear():\r\n",
    "    elemento=driver.find_element_by_xpath(r'/html/body/div/div[1]/div[1]/div[3]/div/header/div[2]/div/span/div[2]/div/span').click()\r\n",
    "    time.sleep(20)\r\n",
    "    print('limpando')\r\n",
    "    elemento=driver.find_element_by_xpath(r'/html/body/div/div[1]/div[1]/div[2]/div[1]/span/div[1]/span/div[1]/div[1]/div/label/div/div[2]').clear() \r\n",
    "\r\n",
    "def search_contact():\r\n",
    "    print('escrever')\r\n",
    "    time.sleep(20)\r\n",
    "    elemento=driver.find_element_by_xpath(r'/html/body/div/div[1]/div[1]/div[2]/div[1]/span/div[1]/span/div[1]/div[1]/div/label/div/div[2]').send_keys(busca)\r\n",
    "\r\n",
    "def acess_contact():\r\n",
    "    print('acessando')\r\n",
    "    time.sleep(10)\r\n",
    "    elemento=driver.find_element_by_xpath(r'/html/body/div/div[1]/div[1]/div[2]/div[1]/span/div[1]/span/div[1]/div[2]/div[1]/div/div/div[2]/div/div/div[2]/div[1]/div/span').click()\r\n",
    "\r\n",
    "def write():\r\n",
    "    print('limpando')\r\n",
    "    elemento=driver.find_element_by_xpath(r'/html/body/div/div[1]/div[1]/div[4]/div[1]/footer/div[1]/div[2]/div/div[2]').clear() \r\n",
    "    print('escrever')\r\n",
    "    time.sleep(20)\r\n",
    "    elemento=driver.find_element_by_xpath(r'/html/body/div/div[1]/div[1]/div[4]/div[1]/footer/div[1]/div[2]/div/div[2]').send_keys('hello world, eu sou um robo')\r\n",
    "\r\n",
    "def send():\r\n",
    "    print('acessando')\r\n",
    "    time.sleep(20)\r\n",
    "    elemento=driver.find_element_by_xpath(r'/html/body/div/div[1]/div[1]/div[4]/div[1]/footer/div[1]/div[2]/div/div[2]').send_keys(Keys.ENTER)\r\n"
   ]
  },
  {
   "cell_type": "code",
   "execution_count": null,
   "metadata": {},
   "outputs": [],
   "source": [
    "mensagem = driver.find_element_by_xpath('/html/body/div/div[1]/div[1]/div[4]/div[1]/div[3]/div/div[1]/div[3]')\r\n",
    "mensagem=mensagem.get_attribute(\"outerHTML\")\r\n",
    "soup=BeautifulSoup(mensagem,'html5lib')\r\n",
    "soup.get_text('!@#@!#@')\r\n",
    "#DIA\r\n"
   ]
  },
  {
   "cell_type": "markdown",
   "metadata": {},
   "source": [
    "assunto que devem ser visto \n",
    "explicar porgramas de saude \n",
    "eventos de saude \n",
    "curiosidades\n",
    "ensino de auto cuidado\n",
    "alerta para consultas \n",
    "\n",
    "  "
   ]
  }
 ],
 "metadata": {
  "interpreter": {
   "hash": "d47ec9e6ee19090eb6316533589df9a6e0a838269e27ad68ef54f091f805a7a9"
  },
  "kernelspec": {
   "display_name": "Python 3.9.5 64-bit",
   "name": "python3"
  },
  "language_info": {
   "codemirror_mode": {
    "name": "ipython",
    "version": 3
   },
   "file_extension": ".py",
   "mimetype": "text/x-python",
   "name": "python",
   "nbconvert_exporter": "python",
   "pygments_lexer": "ipython3",
   "version": "3.9.5"
  }
 },
 "nbformat": 4,
 "nbformat_minor": 4
}