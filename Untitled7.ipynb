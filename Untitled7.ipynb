{
 "cells": [
  {
   "cell_type": "code",
   "execution_count": 6,
   "metadata": {},
   "outputs": [],
   "source": [
    "#importação\n",
    "from selenium.webdriver.common.keys import Keys\n",
    "from selenium import webdriver #importe do selenium webdriver \"controlador\" de site\n",
    "from selenium.webdriver.firefox.options import Options #import do controlador especifico do firefox\n",
    "from selenium.webdriver.common.by import By\n",
    "from selenium.common.exceptions import NoSuchElementException\n",
    "from selenium.webdriver import ActionChains\n",
    "import time #biblioteca para adicionar um tempo de espera \n",
    "from bs4 import BeautifulSoup #manipular html\n",
    "import pandas as pd #criar 'tabela'\n",
    "#from collections import Defaultdict\n",
    "import re\n",
    "from bs4 import BeautifulSoup\n"
   ]
  },
  {
   "cell_type": "code",
   "execution_count": 2,
   "metadata": {},
   "outputs": [
    {
     "data": {
      "text/plain": [
       "['https://scholar.google.com.br/scholar?start=0&q=enfermagem+AND+(inteligencia artificial)&hl=pt-BR&as_sdt=0,5',\n",
       " 'https://scholar.google.com.br/scholar?start=0&q=enfermagem+AND+(machine learning)&hl=pt-BR&as_sdt=0,5',\n",
       " 'https://scholar.google.com.br/scholar?start=0&q=enfermagem+AND+(data science)&hl=pt-BR&as_sdt=0,5']"
      ]
     },
     "execution_count": 2,
     "metadata": {},
     "output_type": "execute_result"
    }
   ],
   "source": [
    "def search(list):\n",
    "    search_terms=[]\n",
    "    for i in list:\n",
    "        reference='enfermagem'\n",
    "        i='('+i+')' if i.find(' ')!=-1 else i\n",
    "        url='https://scholar.google.com.br/scholar?start=0&q='+reference+'+'+'AND'+'+'+i+'&hl=pt-BR&as_sdt=0,5'\n",
    "        search_terms.append(url)\n",
    "    return search_terms\n",
    "list_terms =['inteligencia artificial','machine learning','data science']\n",
    "search(list_terms)"
   ]
  },
  {
   "cell_type": "code",
   "execution_count": 2,
   "metadata": {},
   "outputs": [],
   "source": [
    "options = Options()# instancinado \n",
    "options.binary_location = r\"C:/Program Files/Mozilla Firefox/firefox.exe\"#adicionando o caminho do navagado ao codigo\n",
    "driver = webdriver.Firefox(options=options, executable_path=\"C:/Users/dougl/bin/geckodriver.exe\")#adiconando o caminho do controlador de navegador\n"
   ]
  },
  {
   "cell_type": "code",
   "execution_count": null,
   "metadata": {},
   "outputs": [],
   "source": [
    "x='https://web.whatsapp.com/'\n",
    "busca=\"É eu msm\"\n",
    "element=driver.get(x)\n",
    "time.sleep(20)"
   ]
  },
  {
   "cell_type": "code",
   "execution_count": 4,
   "metadata": {},
   "outputs": [
    {
     "name": "stdout",
     "output_type": "stream",
     "text": [
      "limpando\n",
      "escrever\n",
      "acessando\n",
      "limpando\n",
      "escrever\n",
      "acessando\n"
     ]
    }
   ],
   "source": [
    "\n",
    "elemento=driver.find_element_by_xpath(r'/html/body/div/div[1]/div[1]/div[3]/div/header/div[2]/div/span/div[2]/div/span').click()\n",
    "time.sleep(20)\n",
    "print('limpando')\n",
    "elemento=driver.find_element_by_xpath(r'/html/body/div/div[1]/div[1]/div[2]/div[1]/span/div[1]/span/div[1]/div[1]/div/label/div/div[2]').clear() \n",
    "print('escrever')\n",
    "time.sleep(20)\n",
    "elemento=driver.find_element_by_xpath(r'/html/body/div/div[1]/div[1]/div[2]/div[1]/span/div[1]/span/div[1]/div[1]/div/label/div/div[2]').send_keys(busca)\n",
    "print('acessando')\n",
    "time.sleep(10)\n",
    "elemento=driver.find_element_by_xpath(r'/html/body/div/div[1]/div[1]/div[2]/div[1]/span/div[1]/span/div[1]/div[2]/div[1]/div/div/div[2]/div/div/div[2]/div[1]/div/span').click()\n",
    "print('limpando')\n",
    "elemento=driver.find_element_by_xpath(r'/html/body/div/div[1]/div[1]/div[4]/div[1]/footer/div[1]/div[2]/div/div[2]').clear() \n",
    "print('escrever')\n",
    "time.sleep(20)\n",
    "elemento=driver.find_element_by_xpath(r'/html/body/div/div[1]/div[1]/div[4]/div[1]/footer/div[1]/div[2]/div/div[2]').send_keys('hello world, eu sou um robo')\n",
    "print('acessando')\n",
    "time.sleep(20)\n",
    "elemento=driver.find_element_by_xpath(r'/html/body/div/div[1]/div[1]/div[4]/div[1]/footer/div[1]/div[2]/div/div[2]').send_keys(Keys.ENTER)\n",
    "\n",
    "\n",
    "\n",
    "\n",
    "\n",
    "\n",
    "\n",
    "\n",
    "\n",
    "\n",
    "\n",
    "\n",
    "\n",
    "\n",
    "\n",
    "\n",
    "#html_content = elemento.get_attribute(\"outerHTML\")\n",
    "#soup=BeautifulSoup(html_content,'html5lib')\n",
    "#pages.append(soup)\n",
    "#time.sleep(10)\n",
    "#driver.find_element_by_xpath('/html/body/div/div[10]/div[2]/div[2]/div[3]/div[2]/center/table/tbody/tr/td[12]/a/b').click()\n",
    "#searchBtn = driver.find_element_by_xpath('/html/body/div[1]/div[4]/div/div/a')\n",
    "#webdriver.ActionChains(driver).move_to_element(searchBtn).perform()"
   ]
  },
  {
   "cell_type": "code",
   "execution_count": 28,
   "metadata": {},
   "outputs": [
    {
     "data": {
      "text/plain": [
       "'23/04/2021!@#@!#@Peixinho Deu!@#@!#@Fala!@#@!#@12:43!@#@!#@26/04/2021!@#@!#@hello world, eu sou um robo!@#@!#@14:20!@#@!#@07/05/2021!@#@!#@ola mundo!@#@!#@15:07!@#@!#@Peixinho Deu!@#@!#@Ola!@#@!#@16:05!@#@!#@ONTEM!@#@!#@ola mundo!@#@!#@14:04!@#@!#@Peixinho Deu!@#@!#@Olha dengo!@#@!#@15:30!@#@!#@Ola!@#@!#@15:30!@#@!#@HOJE!@#@!#@hello world, eu sou um robo!@#@!#@13:34'"
      ]
     },
     "execution_count": 28,
     "metadata": {},
     "output_type": "execute_result"
    }
   ],
   "source": [
    "mensagem = driver.find_element_by_xpath('/html/body/div/div[1]/div[1]/div[4]/div[1]/div[3]/div/div[1]/div[3]')\n",
    "mensagem=mensagem.get_attribute(\"outerHTML\")\n",
    "soup=BeautifulSoup(mensagem,'html5lib')\n",
    "soup.get_text('!@#@!#@')\n",
    "#DIA\n"
   ]
  },
  {
   "cell_type": "markdown",
   "metadata": {},
   "source": [
    "assunto que devem ser visto \n",
    "explicar porgramas de saude \n",
    "eventos de saude \n",
    "curiosidades\n",
    "ensino de auto cuidado\n",
    "alerta para consultas \n",
    "\n",
    "  "
   ]
  }
 ],
 "metadata": {
  "kernelspec": {
   "display_name": "Python 3",
   "language": "python",
   "name": "python3"
  },
  "language_info": {
   "codemirror_mode": {
    "name": "ipython",
    "version": 3
   },
   "file_extension": ".py",
   "mimetype": "text/x-python",
   "name": "python",
   "nbconvert_exporter": "python",
   "pygments_lexer": "ipython3",
   "version": "3.7.6"
  }
 },
 "nbformat": 4,
 "nbformat_minor": 4
}
